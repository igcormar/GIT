{
 "cells": [
  {
   "cell_type": "code",
   "execution_count": 1,
   "metadata": {},
   "outputs": [],
   "source": [
    "# Nos immportamos las librerias principales\n",
    "import matplotlib.pyplot as plt\n",
    "import numpy as np\n",
    "import pandas as pd\n",
    "import seaborn as sns"
   ]
  },
  {
   "cell_type": "code",
   "execution_count": 2,
   "metadata": {},
   "outputs": [],
   "source": [
    "#Descargamos las tres bases de datos.\n",
    "\n",
    "df_Malaga = pd.read_csv(\"./data/Malaga.csv\")\n",
    "df_Valencia = pd.read_csv(\"./data/Valencia.csv\")\n",
    "df_Mallorca = pd.read_csv(\"./data/Mallorca.csv\")"
   ]
  },
  {
   "cell_type": "code",
   "execution_count": 3,
   "metadata": {},
   "outputs": [],
   "source": [
    "# Vamos a hacer una copia para trabajar sobre ella \n",
    "df_Val = df_Valencia.copy()\n",
    "df_Mall = df_Mallorca.copy()\n",
    "df_Mal= df_Malaga.copy()"
   ]
  },
  {
   "cell_type": "code",
   "execution_count": 4,
   "metadata": {},
   "outputs": [],
   "source": [
    "# Añadimos una columna nueva con el nombre de la ciudad por si nos es útil en el futuro saber de qué ciudad se trataba.\n",
    "df_Val['City'] = \"Valencia\"\n",
    "df_Mall['City'] = \"Mallorca\"\n",
    "df_Mal['City'] = \"Malaga\"\n"
   ]
  },
  {
   "cell_type": "code",
   "execution_count": 5,
   "metadata": {},
   "outputs": [
    {
     "data": {
      "text/plain": [
       "<bound method NDFrame.describe of 0        Mallorca\n",
       "1        Mallorca\n",
       "2        Mallorca\n",
       "3        Mallorca\n",
       "4        Mallorca\n",
       "           ...   \n",
       "17210    Mallorca\n",
       "17211    Mallorca\n",
       "17212    Mallorca\n",
       "17213    Mallorca\n",
       "17214    Mallorca\n",
       "Name: City, Length: 17215, dtype: object>"
      ]
     },
     "execution_count": 5,
     "metadata": {},
     "output_type": "execute_result"
    }
   ],
   "source": [
    "# Comprobamos que la haya creado.df_M\n",
    "df_Mall.City.describe\n"
   ]
  },
  {
   "cell_type": "code",
   "execution_count": 6,
   "metadata": {},
   "outputs": [],
   "source": [
    "# Vamos a fusionar las tres bases de datos de las tres ciudades.\n",
    "df_Dirty = pd.concat([df_Val, df_Mall,df_Mal], ignore_index=True)"
   ]
  },
  {
   "cell_type": "code",
   "execution_count": 7,
   "metadata": {},
   "outputs": [
    {
     "data": {
      "text/plain": [
       "35787"
      ]
     },
     "execution_count": 7,
     "metadata": {},
     "output_type": "execute_result"
    }
   ],
   "source": [
    "# Veamos si se han fusionado. \n",
    "len(df_Dirty.index)\n",
    "# Se han fusionado correctamente"
   ]
  },
  {
   "cell_type": "code",
   "execution_count": 8,
   "metadata": {},
   "outputs": [],
   "source": [
    "# Vimos que el camo 'price' tenía un \"$\" delante así que lo transformamos quitándole el simblo \"$\". \n",
    "df_Dirty['price'] = pd.to_numeric(df_Dirty['price'].str.replace('$', ''), errors='coerce')"
   ]
  },
  {
   "cell_type": "code",
   "execution_count": 9,
   "metadata": {},
   "outputs": [
    {
     "name": "stdout",
     "output_type": "stream",
     "text": [
      "6523039.0\n"
     ]
    }
   ],
   "source": [
    "# Probamos a sumarlo a ver si funciona\n",
    "suma_prueba = df_Dirty['price'].sum()\n",
    "print(suma_prueba)\n",
    "# Parece que sí funciona. "
   ]
  },
  {
   "cell_type": "code",
   "execution_count": 10,
   "metadata": {},
   "outputs": [
    {
     "name": "stdout",
     "output_type": "stream",
     "text": [
      "<class 'pandas.core.frame.DataFrame'>\n",
      "RangeIndex: 35787 entries, 0 to 35786\n",
      "Data columns (total 76 columns):\n",
      " #   Column                                        Non-Null Count  Dtype  \n",
      "---  ------                                        --------------  -----  \n",
      " 0   id                                            35787 non-null  int64  \n",
      " 1   listing_url                                   35787 non-null  object \n",
      " 2   scrape_id                                     35787 non-null  int64  \n",
      " 3   last_scraped                                  35787 non-null  object \n",
      " 4   source                                        35787 non-null  object \n",
      " 5   name                                          35787 non-null  object \n",
      " 6   description                                   34647 non-null  object \n",
      " 7   neighborhood_overview                         15813 non-null  object \n",
      " 8   picture_url                                   35787 non-null  object \n",
      " 9   host_id                                       35787 non-null  int64  \n",
      " 10  host_url                                      35787 non-null  object \n",
      " 11  host_name                                     35787 non-null  object \n",
      " 12  host_since                                    35787 non-null  object \n",
      " 13  host_location                                 26636 non-null  object \n",
      " 14  host_about                                    21105 non-null  object \n",
      " 15  host_response_time                            34023 non-null  object \n",
      " 16  host_response_rate                            34023 non-null  object \n",
      " 17  host_acceptance_rate                          34535 non-null  object \n",
      " 18  host_is_superhost                             34905 non-null  object \n",
      " 19  host_thumbnail_url                            35787 non-null  object \n",
      " 20  host_picture_url                              35787 non-null  object \n",
      " 21  host_neighbourhood                            7157 non-null   object \n",
      " 22  host_listings_count                           35787 non-null  int64  \n",
      " 23  host_total_listings_count                     35787 non-null  int64  \n",
      " 24  host_verifications                            35787 non-null  object \n",
      " 25  host_has_profile_pic                          35787 non-null  object \n",
      " 26  host_identity_verified                        35787 non-null  object \n",
      " 27  neighbourhood                                 15813 non-null  object \n",
      " 28  neighbourhood_cleansed                        35787 non-null  object \n",
      " 29  neighbourhood_group_cleansed                  9596 non-null   object \n",
      " 30  latitude                                      35787 non-null  float64\n",
      " 31  longitude                                     35787 non-null  float64\n",
      " 32  property_type                                 35787 non-null  object \n",
      " 33  room_type                                     35787 non-null  object \n",
      " 34  accommodates                                  35787 non-null  int64  \n",
      " 35  bathrooms                                     34373 non-null  float64\n",
      " 36  bathrooms_text                                35757 non-null  object \n",
      " 37  bedrooms                                      35512 non-null  float64\n",
      " 38  beds                                          34369 non-null  float64\n",
      " 39  amenities                                     35787 non-null  object \n",
      " 40  price                                         33632 non-null  float64\n",
      " 41  minimum_nights                                35787 non-null  int64  \n",
      " 42  maximum_nights                                35787 non-null  int64  \n",
      " 43  minimum_minimum_nights                        35787 non-null  int64  \n",
      " 44  maximum_minimum_nights                        35787 non-null  int64  \n",
      " 45  minimum_maximum_nights                        35787 non-null  int64  \n",
      " 46  maximum_maximum_nights                        35787 non-null  int64  \n",
      " 47  minimum_nights_avg_ntm                        35787 non-null  float64\n",
      " 48  maximum_nights_avg_ntm                        35787 non-null  float64\n",
      " 49  calendar_updated                              0 non-null      float64\n",
      " 50  has_availability                              35581 non-null  object \n",
      " 51  availability_30                               35787 non-null  int64  \n",
      " 52  availability_60                               35787 non-null  int64  \n",
      " 53  availability_90                               35787 non-null  int64  \n",
      " 54  availability_365                              35787 non-null  int64  \n",
      " 55  calendar_last_scraped                         35787 non-null  object \n",
      " 56  number_of_reviews                             35787 non-null  int64  \n",
      " 57  number_of_reviews_ltm                         35787 non-null  int64  \n",
      " 58  number_of_reviews_l30d                        35787 non-null  int64  \n",
      " 59  first_review                                  28441 non-null  object \n",
      " 60  last_review                                   28441 non-null  object \n",
      " 61  review_scores_rating                          28441 non-null  float64\n",
      " 62  review_scores_accuracy                        28418 non-null  float64\n",
      " 63  review_scores_cleanliness                     28417 non-null  float64\n",
      " 64  review_scores_checkin                         28418 non-null  float64\n",
      " 65  review_scores_communication                   28418 non-null  float64\n",
      " 66  review_scores_location                        28418 non-null  float64\n",
      " 67  review_scores_value                           28418 non-null  float64\n",
      " 68  license                                       22424 non-null  object \n",
      " 69  instant_bookable                              35787 non-null  object \n",
      " 70  calculated_host_listings_count                35787 non-null  int64  \n",
      " 71  calculated_host_listings_count_entire_homes   35787 non-null  int64  \n",
      " 72  calculated_host_listings_count_private_rooms  35787 non-null  int64  \n",
      " 73  calculated_host_listings_count_shared_rooms   35787 non-null  int64  \n",
      " 74  reviews_per_month                             28441 non-null  float64\n",
      " 75  City                                          35787 non-null  object \n",
      "dtypes: float64(17), int64(23), object(36)\n",
      "memory usage: 20.8+ MB\n"
     ]
    }
   ],
   "source": [
    "# Veamos los campos de la tabla fusionada. Hay muchos campos y algunos tienen muchos nulos.\n",
    "df_Dirty.info()"
   ]
  },
  {
   "cell_type": "code",
   "execution_count": 11,
   "metadata": {},
   "outputs": [
    {
     "data": {
      "text/plain": [
       "host_response_time\n",
       "within an hour        27388\n",
       "within a few hours     3895\n",
       "within a day           2052\n",
       "a few days or more      688\n",
       "Name: count, dtype: int64"
      ]
     },
     "execution_count": 11,
     "metadata": {},
     "output_type": "execute_result"
    }
   ],
   "source": [
    "# vamos a ver la agrupación de algunos campos para ver si nos pueden interesar. \n",
    "df_Dirty.host_response_time.value_counts()\n",
    "# Vemos que la mayoría de anfitriones contesta en menos de una hora."
   ]
  },
  {
   "cell_type": "code",
   "execution_count": 12,
   "metadata": {},
   "outputs": [
    {
     "data": {
      "text/plain": [
       "property_type\n",
       "Entire rental unit             14870\n",
       "Entire villa                    5378\n",
       "Entire home                     5254\n",
       "Private room in rental unit     3415\n",
       "Entire condo                     956\n",
       "                               ...  \n",
       "Holiday park                       1\n",
       "Private room in camper/rv          1\n",
       "Room in heritage hotel             1\n",
       "Shared room in condo               1\n",
       "Shared room in chalet              1\n",
       "Name: count, Length: 74, dtype: int64"
      ]
     },
     "execution_count": 12,
     "metadata": {},
     "output_type": "execute_result"
    }
   ],
   "source": [
    "# Por ahora nos parece útil, nos la quedamos, pero vamos a quitar algunos tipos de propiedad con los que no queremos compararnos.\n",
    "df_Dirty.property_type.value_counts() \n"
   ]
  },
  {
   "cell_type": "code",
   "execution_count": 13,
   "metadata": {},
   "outputs": [
    {
     "name": "stdout",
     "output_type": "stream",
     "text": [
      "Diferentes tipos de propiedad'property_type':\n",
      "['Entire rental unit' 'Entire condo' 'Entire home'\n",
      " 'Private room in rental unit' 'Entire loft' 'Entire townhouse'\n",
      " 'Entire villa' 'Entire serviced apartment' 'Private room in condo'\n",
      " 'Private room in home' 'Entire place' 'Tiny home' 'Boat'\n",
      " 'Private room in guest suite' 'Shared room in rental unit'\n",
      " 'Shared room in condo' 'Private room in townhouse'\n",
      " 'Private room in bed and breakfast' 'Entire guest suite' 'Floor'\n",
      " 'Private room in loft' 'Room in boutique hotel' 'Entire cottage'\n",
      " 'Private room in hostel' 'Private room' 'Entire chalet' 'Room in hostel'\n",
      " 'Entire vacation home' 'Casa particular' 'Private room in guesthouse'\n",
      " 'Private room in casa particular' 'Private room in boat'\n",
      " 'Private room in serviced apartment' 'Room in hotel'\n",
      " 'Shared room in hostel' 'Room in aparthotel' 'Entire guesthouse'\n",
      " 'Camper/RV' 'Private room in vacation home' 'Shared room in home'\n",
      " 'Shared room in casa particular' 'Shared room in hotel' 'Houseboat'\n",
      " 'Entire cabin' 'Castle' 'Private room in camper/rv'\n",
      " 'Private room in chalet' 'Farm stay' 'Entire bungalow' 'Earthen home'\n",
      " 'Private room in island' 'Private room in villa' 'Island'\n",
      " 'Private room in farm stay' 'Treehouse' 'Private room in cottage'\n",
      " 'Private room in earthen home' 'Room in serviced apartment'\n",
      " 'Room in nature lodge' 'Private room in cabin'\n",
      " 'Room in bed and breakfast' 'Windmill' 'Room in heritage hotel' 'Yurt'\n",
      " 'Campsite' 'Holiday park' 'Entire home/apt'\n",
      " 'Private room in nature lodge' 'Tent' 'Private room in tiny home'\n",
      " 'Shared room in loft' 'Private room in yurt' 'Dome'\n",
      " 'Shared room in chalet']\n"
     ]
    }
   ],
   "source": [
    "# Vamos a ver todos las posibilidades que hay, que con el value_counts no las vemos.\n",
    "property_type_unique = df_Dirty['property_type'].unique()\n",
    "print(\"Diferentes tipos de propiedad'property_type':\")\n",
    "print(property_type_unique)\n",
    "# Hay muchos, vamos a ver otro campo para hacer el filtro."
   ]
  },
  {
   "cell_type": "code",
   "execution_count": 14,
   "metadata": {},
   "outputs": [
    {
     "data": {
      "text/plain": [
       "room_type\n",
       "Entire home/apt    30276\n",
       "Private room        5348\n",
       "Hotel room            95\n",
       "Shared room           68\n",
       "Name: count, dtype: int64"
      ]
     },
     "execution_count": 14,
     "metadata": {},
     "output_type": "execute_result"
    }
   ],
   "source": [
    "# Vamos a ver el room_type\n",
    "df_Dirty.room_type.value_counts() "
   ]
  },
  {
   "cell_type": "code",
   "execution_count": 15,
   "metadata": {},
   "outputs": [
    {
     "data": {
      "text/plain": [
       "room_type\n",
       "Entire home/apt    30276\n",
       "Name: count, dtype: int64"
      ]
     },
     "execution_count": 15,
     "metadata": {},
     "output_type": "execute_result"
    }
   ],
   "source": [
    "# Esta clasificación nos parece más fácil de manejar, por lo que \n",
    "\n",
    "# Eliminamos las filas donde 'room_type' no es un apartamento o casa entera.\n",
    "room_type_keep = 'Entire home/apt'\n",
    "df_Dirty = df_Dirty[df_Dirty['room_type'] == room_type_keep]\n",
    "\n",
    "# Mostrar el DataFrame resultante\n",
    "df_Dirty.room_type.value_counts() "
   ]
  },
  {
   "cell_type": "code",
   "execution_count": 16,
   "metadata": {},
   "outputs": [
    {
     "data": {
      "text/plain": [
       "instant_bookable\n",
       "t    18133\n",
       "f    12143\n",
       "Name: count, dtype: int64"
      ]
     },
     "execution_count": 16,
     "metadata": {},
     "output_type": "execute_result"
    }
   ],
   "source": [
    "# veamos la posibilidad de alquilar directamente, los resultados que da. Nos parece útil \n",
    "df_Dirty.instant_bookable.value_counts() "
   ]
  },
  {
   "cell_type": "code",
   "execution_count": 17,
   "metadata": {},
   "outputs": [
    {
     "data": {
      "text/plain": [
       "host_acceptance_rate\n",
       "100%    13948\n",
       "99%      4440\n",
       "94%      1495\n",
       "98%      1471\n",
       "97%       720\n",
       "        ...  \n",
       "15%         2\n",
       "12%         2\n",
       "16%         2\n",
       "34%         1\n",
       "5%          1\n",
       "Name: count, Length: 101, dtype: int64"
      ]
     },
     "execution_count": 17,
     "metadata": {},
     "output_type": "execute_result"
    }
   ],
   "source": [
    "# veamos las respuestas positivas de los anfitriones. Nos parece útil \n",
    "df_Dirty.host_acceptance_rate.value_counts() "
   ]
  },
  {
   "cell_type": "code",
   "execution_count": 18,
   "metadata": {},
   "outputs": [],
   "source": [
    "# Vamos a quitar muchas de las columnas cuya información no nos interesa. Para ello usaremos las descripcciones de la excel \"Descripcción de campos\"\n",
    "# como son muchas haremos las eliminaremos en varias veces haciendo listas.\n",
    "columnas_a_eliminar = ['listing_url', 'scrape_id','last_scraped','source','name','description','neighborhood_overview','picture_url','picture_url','host_url','host_name','host_since','host_location','host_about','host_thumbnail_url','host_picture_url','host_neighbourhood','host_total_listings_count','host_verifications','host_has_profile_pic','host_identity_verified','neighbourhood','neighbourhood_cleansed','neighbourhood_group_cleansed','bathrooms_text','amenities']\n",
    "df_Dirty = df_Dirty.drop(columns=columnas_a_eliminar)"
   ]
  },
  {
   "cell_type": "code",
   "execution_count": 19,
   "metadata": {},
   "outputs": [
    {
     "name": "stdout",
     "output_type": "stream",
     "text": [
      "<class 'pandas.core.frame.DataFrame'>\n",
      "Index: 30276 entries, 0 to 35785\n",
      "Data columns (total 51 columns):\n",
      " #   Column                                        Non-Null Count  Dtype  \n",
      "---  ------                                        --------------  -----  \n",
      " 0   id                                            30276 non-null  int64  \n",
      " 1   host_id                                       30276 non-null  int64  \n",
      " 2   host_response_time                            28946 non-null  object \n",
      " 3   host_response_rate                            28946 non-null  object \n",
      " 4   host_acceptance_rate                          29286 non-null  object \n",
      " 5   host_is_superhost                             29459 non-null  object \n",
      " 6   host_listings_count                           30276 non-null  int64  \n",
      " 7   latitude                                      30276 non-null  float64\n",
      " 8   longitude                                     30276 non-null  float64\n",
      " 9   property_type                                 30276 non-null  object \n",
      " 10  room_type                                     30276 non-null  object \n",
      " 11  accommodates                                  30276 non-null  int64  \n",
      " 12  bathrooms                                     29276 non-null  float64\n",
      " 13  bedrooms                                      30216 non-null  float64\n",
      " 14  beds                                          29277 non-null  float64\n",
      " 15  price                                         28559 non-null  float64\n",
      " 16  minimum_nights                                30276 non-null  int64  \n",
      " 17  maximum_nights                                30276 non-null  int64  \n",
      " 18  minimum_minimum_nights                        30276 non-null  int64  \n",
      " 19  maximum_minimum_nights                        30276 non-null  int64  \n",
      " 20  minimum_maximum_nights                        30276 non-null  int64  \n",
      " 21  maximum_maximum_nights                        30276 non-null  int64  \n",
      " 22  minimum_nights_avg_ntm                        30276 non-null  float64\n",
      " 23  maximum_nights_avg_ntm                        30276 non-null  float64\n",
      " 24  calendar_updated                              0 non-null      float64\n",
      " 25  has_availability                              30144 non-null  object \n",
      " 26  availability_30                               30276 non-null  int64  \n",
      " 27  availability_60                               30276 non-null  int64  \n",
      " 28  availability_90                               30276 non-null  int64  \n",
      " 29  availability_365                              30276 non-null  int64  \n",
      " 30  calendar_last_scraped                         30276 non-null  object \n",
      " 31  number_of_reviews                             30276 non-null  int64  \n",
      " 32  number_of_reviews_ltm                         30276 non-null  int64  \n",
      " 33  number_of_reviews_l30d                        30276 non-null  int64  \n",
      " 34  first_review                                  24064 non-null  object \n",
      " 35  last_review                                   24064 non-null  object \n",
      " 36  review_scores_rating                          24064 non-null  float64\n",
      " 37  review_scores_accuracy                        24048 non-null  float64\n",
      " 38  review_scores_cleanliness                     24047 non-null  float64\n",
      " 39  review_scores_checkin                         24048 non-null  float64\n",
      " 40  review_scores_communication                   24048 non-null  float64\n",
      " 41  review_scores_location                        24048 non-null  float64\n",
      " 42  review_scores_value                           24048 non-null  float64\n",
      " 43  license                                       20783 non-null  object \n",
      " 44  instant_bookable                              30276 non-null  object \n",
      " 45  calculated_host_listings_count                30276 non-null  int64  \n",
      " 46  calculated_host_listings_count_entire_homes   30276 non-null  int64  \n",
      " 47  calculated_host_listings_count_private_rooms  30276 non-null  int64  \n",
      " 48  calculated_host_listings_count_shared_rooms   30276 non-null  int64  \n",
      " 49  reviews_per_month                             24064 non-null  float64\n",
      " 50  City                                          30276 non-null  object \n",
      "dtypes: float64(17), int64(21), object(13)\n",
      "memory usage: 12.0+ MB\n"
     ]
    }
   ],
   "source": [
    "df_Dirty.info()"
   ]
  },
  {
   "cell_type": "code",
   "execution_count": 20,
   "metadata": {},
   "outputs": [],
   "source": [
    "# Seguimos eliminando columnas\n",
    "columnas_a_eliminar_2 = ['minimum_minimum_nights','maximum_minimum_nights','minimum_maximum_nights','maximum_maximum_nights','minimum_nights_avg_ntm','maximum_nights_avg_ntm','calendar_updated','has_availability','availability_30','availability_60','availability_90','availability_365','calendar_last_scraped','first_review','last_review','license','instant_bookable','calculated_host_listings_count','calculated_host_listings_count_entire_homes','calculated_host_listings_count_private_rooms','calculated_host_listings_count_shared_rooms']\n",
    "df_Dirty_2 = df_Dirty.drop(columns=columnas_a_eliminar_2)"
   ]
  },
  {
   "cell_type": "code",
   "execution_count": 21,
   "metadata": {},
   "outputs": [
    {
     "name": "stdout",
     "output_type": "stream",
     "text": [
      "<class 'pandas.core.frame.DataFrame'>\n",
      "Index: 30276 entries, 0 to 35785\n",
      "Data columns (total 30 columns):\n",
      " #   Column                       Non-Null Count  Dtype  \n",
      "---  ------                       --------------  -----  \n",
      " 0   id                           30276 non-null  int64  \n",
      " 1   host_id                      30276 non-null  int64  \n",
      " 2   host_response_time           28946 non-null  object \n",
      " 3   host_response_rate           28946 non-null  object \n",
      " 4   host_acceptance_rate         29286 non-null  object \n",
      " 5   host_is_superhost            29459 non-null  object \n",
      " 6   host_listings_count          30276 non-null  int64  \n",
      " 7   latitude                     30276 non-null  float64\n",
      " 8   longitude                    30276 non-null  float64\n",
      " 9   property_type                30276 non-null  object \n",
      " 10  room_type                    30276 non-null  object \n",
      " 11  accommodates                 30276 non-null  int64  \n",
      " 12  bathrooms                    29276 non-null  float64\n",
      " 13  bedrooms                     30216 non-null  float64\n",
      " 14  beds                         29277 non-null  float64\n",
      " 15  price                        28559 non-null  float64\n",
      " 16  minimum_nights               30276 non-null  int64  \n",
      " 17  maximum_nights               30276 non-null  int64  \n",
      " 18  number_of_reviews            30276 non-null  int64  \n",
      " 19  number_of_reviews_ltm        30276 non-null  int64  \n",
      " 20  number_of_reviews_l30d       30276 non-null  int64  \n",
      " 21  review_scores_rating         24064 non-null  float64\n",
      " 22  review_scores_accuracy       24048 non-null  float64\n",
      " 23  review_scores_cleanliness    24047 non-null  float64\n",
      " 24  review_scores_checkin        24048 non-null  float64\n",
      " 25  review_scores_communication  24048 non-null  float64\n",
      " 26  review_scores_location       24048 non-null  float64\n",
      " 27  review_scores_value          24048 non-null  float64\n",
      " 28  reviews_per_month            24064 non-null  float64\n",
      " 29  City                         30276 non-null  object \n",
      "dtypes: float64(14), int64(9), object(7)\n",
      "memory usage: 7.2+ MB\n"
     ]
    }
   ],
   "source": [
    "# veamos cómo ha quedado y si se nos ha pasado alguna columna por eliminar.\n",
    "df_Dirty_2.info()"
   ]
  },
  {
   "cell_type": "code",
   "execution_count": 22,
   "metadata": {},
   "outputs": [],
   "source": [
    "# ponemos como índice \n",
    "df_Dirty_2_Index = df_Dirty_2.set_index('host_id')"
   ]
  },
  {
   "cell_type": "code",
   "execution_count": 23,
   "metadata": {},
   "outputs": [
    {
     "name": "stdout",
     "output_type": "stream",
     "text": [
      "La columna de índice actual es: host_id\n"
     ]
    }
   ],
   "source": [
    "# comprobamos que lo hemos hecho bien\n",
    "indice_actual = df_Dirty_2_Index.index.name\n",
    "print(f\"La columna de índice actual es: {indice_actual}\")"
   ]
  },
  {
   "cell_type": "code",
   "execution_count": 24,
   "metadata": {},
   "outputs": [
    {
     "name": "stdout",
     "output_type": "stream",
     "text": [
      "<class 'pandas.core.frame.DataFrame'>\n",
      "Index: 28559 entries, 219476 to 2634139\n",
      "Data columns (total 29 columns):\n",
      " #   Column                       Non-Null Count  Dtype  \n",
      "---  ------                       --------------  -----  \n",
      " 0   id                           28559 non-null  int64  \n",
      " 1   host_response_time           27383 non-null  object \n",
      " 2   host_response_rate           27383 non-null  object \n",
      " 3   host_acceptance_rate         27673 non-null  object \n",
      " 4   host_is_superhost            27778 non-null  object \n",
      " 5   host_listings_count          28559 non-null  int64  \n",
      " 6   latitude                     28559 non-null  float64\n",
      " 7   longitude                    28559 non-null  float64\n",
      " 8   property_type                28559 non-null  object \n",
      " 9   room_type                    28559 non-null  object \n",
      " 10  accommodates                 28559 non-null  int64  \n",
      " 11  bathrooms                    28550 non-null  float64\n",
      " 12  bedrooms                     28545 non-null  float64\n",
      " 13  beds                         28551 non-null  float64\n",
      " 14  price                        28559 non-null  float64\n",
      " 15  minimum_nights               28559 non-null  int64  \n",
      " 16  maximum_nights               28559 non-null  int64  \n",
      " 17  number_of_reviews            28559 non-null  int64  \n",
      " 18  number_of_reviews_ltm        28559 non-null  int64  \n",
      " 19  number_of_reviews_l30d       28559 non-null  int64  \n",
      " 20  review_scores_rating         22987 non-null  float64\n",
      " 21  review_scores_accuracy       22972 non-null  float64\n",
      " 22  review_scores_cleanliness    22972 non-null  float64\n",
      " 23  review_scores_checkin        22972 non-null  float64\n",
      " 24  review_scores_communication  22972 non-null  float64\n",
      " 25  review_scores_location       22972 non-null  float64\n",
      " 26  review_scores_value          22972 non-null  float64\n",
      " 27  reviews_per_month            22987 non-null  float64\n",
      " 28  City                         28559 non-null  object \n",
      "dtypes: float64(14), int64(8), object(7)\n",
      "memory usage: 6.5+ MB\n"
     ]
    }
   ],
   "source": [
    "# vamos a limpiar filas. \n",
    "# Lo primero es eliminar los registros que no tienen precio porque será variable importante.\n",
    "df_Dirty_2_Index.dropna(subset=['price'], inplace=True)\n",
    "df_Dirty_2_Index.info()\n"
   ]
  },
  {
   "cell_type": "code",
   "execution_count": 25,
   "metadata": {},
   "outputs": [],
   "source": [
    "# Eliminamos las filas con nulos para superhost\n",
    "df_Dirty_2_Index.dropna(subset=['host_is_superhost'], inplace=True)"
   ]
  },
  {
   "cell_type": "code",
   "execution_count": 26,
   "metadata": {},
   "outputs": [],
   "source": [
    "# Por último vamos a eliminar los ratings que no sean la media.\n",
    "columnas_a_eliminar_3 = ['review_scores_accuracy','review_scores_cleanliness','review_scores_checkin','review_scores_communication','review_scores_location','review_scores_value']\n",
    "df_Dirty_3 = df_Dirty_2_Index.drop(columns=columnas_a_eliminar_3)"
   ]
  },
  {
   "cell_type": "code",
   "execution_count": 27,
   "metadata": {},
   "outputs": [],
   "source": [
    "#  Imputamos la media de bathrooms, bedrooms y beds\n",
    "media_bathrooms = df_Dirty_3['bathrooms'].mean()\n",
    "media_bedrooms = df_Dirty_3['bedrooms'].mean()\n",
    "media_beds = df_Dirty_3['beds'].mean()\n",
    "media_reviews = df_Dirty_3['reviews_per_month'].mean()\n",
    "media_review_scores_rating = df_Dirty_3['review_scores_rating'].mean()"
   ]
  },
  {
   "cell_type": "code",
   "execution_count": 28,
   "metadata": {},
   "outputs": [],
   "source": [
    "df_Dirty_3['bathrooms']=df_Dirty_3['bathrooms'].fillna(media_bathrooms)\n",
    "df_Dirty_3['bedrooms']= df_Dirty_3['bedrooms'].fillna(media_bedrooms)\n",
    "df_Dirty_3['beds']= df_Dirty_3['beds'].fillna(media_beds)\n",
    "df_Dirty_3['reviews_per_month']= df_Dirty_3['reviews_per_month'].fillna(media_reviews)\n",
    "df_Dirty_3['review_scores_rating']= df_Dirty_3['review_scores_rating'].fillna(media_review_scores_rating)\n"
   ]
  },
  {
   "cell_type": "code",
   "execution_count": 29,
   "metadata": {},
   "outputs": [
    {
     "name": "stdout",
     "output_type": "stream",
     "text": [
      "<class 'pandas.core.frame.DataFrame'>\n",
      "Index: 27778 entries, 219476 to 2634139\n",
      "Data columns (total 23 columns):\n",
      " #   Column                  Non-Null Count  Dtype  \n",
      "---  ------                  --------------  -----  \n",
      " 0   id                      27778 non-null  int64  \n",
      " 1   host_response_time      26644 non-null  object \n",
      " 2   host_response_rate      26644 non-null  object \n",
      " 3   host_acceptance_rate    26927 non-null  object \n",
      " 4   host_is_superhost       27778 non-null  object \n",
      " 5   host_listings_count     27778 non-null  int64  \n",
      " 6   latitude                27778 non-null  float64\n",
      " 7   longitude               27778 non-null  float64\n",
      " 8   property_type           27778 non-null  object \n",
      " 9   room_type               27778 non-null  object \n",
      " 10  accommodates            27778 non-null  int64  \n",
      " 11  bathrooms               27778 non-null  float64\n",
      " 12  bedrooms                27778 non-null  float64\n",
      " 13  beds                    27778 non-null  float64\n",
      " 14  price                   27778 non-null  float64\n",
      " 15  minimum_nights          27778 non-null  int64  \n",
      " 16  maximum_nights          27778 non-null  int64  \n",
      " 17  number_of_reviews       27778 non-null  int64  \n",
      " 18  number_of_reviews_ltm   27778 non-null  int64  \n",
      " 19  number_of_reviews_l30d  27778 non-null  int64  \n",
      " 20  review_scores_rating    27778 non-null  float64\n",
      " 21  reviews_per_month       27778 non-null  float64\n",
      " 22  City                    27778 non-null  object \n",
      "dtypes: float64(8), int64(8), object(7)\n",
      "memory usage: 5.1+ MB\n"
     ]
    }
   ],
   "source": [
    "# Veamos cómo queda\n",
    "df_Dirty_3.info()\n"
   ]
  },
  {
   "cell_type": "code",
   "execution_count": 30,
   "metadata": {},
   "outputs": [],
   "source": [
    "# Vamos a convertir en numéricas las variables 'host_response_rate' y 'host_acceptance_rate' para luego poder sustituir por la media los nulos.\n",
    "\n",
    "df_Dirty_3['host_response_rate'] = pd.to_numeric(df_Dirty_3['host_response_rate'].str.replace('%', ''), errors='coerce')\n",
    "df_Dirty_3['host_acceptance_rate'] = pd.to_numeric(df_Dirty_3['host_acceptance_rate'].str.replace('%', ''), errors='coerce')"
   ]
  },
  {
   "cell_type": "code",
   "execution_count": 31,
   "metadata": {},
   "outputs": [
    {
     "name": "stdout",
     "output_type": "stream",
     "text": [
      "2578785.0\n",
      "2502932.0\n"
     ]
    }
   ],
   "source": [
    "# Imprimimos las sumas para ver que ahora son numéricas.\n",
    "print(df_Dirty_3['host_response_rate'].sum())\n",
    "print(df_Dirty_3['host_acceptance_rate'].sum())"
   ]
  },
  {
   "cell_type": "code",
   "execution_count": 32,
   "metadata": {},
   "outputs": [],
   "source": [
    "# Reemplazamos por la media los dos primeros porque son variables que hemos convertido en numéricas\n",
    "\n",
    "df_Dirty_3['host_response_rate']=df_Dirty_3['host_response_rate'].fillna(df_Dirty_3['host_response_rate'].mean())\n",
    "df_Dirty_3['host_acceptance_rate']=df_Dirty_3['host_acceptance_rate'].fillna(df_Dirty_3['host_acceptance_rate'].mean())\n",
    "\n",
    "# y el 'host response time' por la moda, porque es una variable categórica.\n",
    "df_Dirty_3.loc[df_Dirty_3.host_response_time.isna(), \"host_response_time\"] = df_Dirty_3.host_response_time.mode()[0]\n"
   ]
  },
  {
   "cell_type": "code",
   "execution_count": 33,
   "metadata": {},
   "outputs": [
    {
     "name": "stdout",
     "output_type": "stream",
     "text": [
      "<class 'pandas.core.frame.DataFrame'>\n",
      "Index: 27778 entries, 219476 to 2634139\n",
      "Data columns (total 23 columns):\n",
      " #   Column                  Non-Null Count  Dtype  \n",
      "---  ------                  --------------  -----  \n",
      " 0   id                      27778 non-null  int64  \n",
      " 1   host_response_time      27778 non-null  object \n",
      " 2   host_response_rate      27778 non-null  float64\n",
      " 3   host_acceptance_rate    27778 non-null  float64\n",
      " 4   host_is_superhost       27778 non-null  object \n",
      " 5   host_listings_count     27778 non-null  int64  \n",
      " 6   latitude                27778 non-null  float64\n",
      " 7   longitude               27778 non-null  float64\n",
      " 8   property_type           27778 non-null  object \n",
      " 9   room_type               27778 non-null  object \n",
      " 10  accommodates            27778 non-null  int64  \n",
      " 11  bathrooms               27778 non-null  float64\n",
      " 12  bedrooms                27778 non-null  float64\n",
      " 13  beds                    27778 non-null  float64\n",
      " 14  price                   27778 non-null  float64\n",
      " 15  minimum_nights          27778 non-null  int64  \n",
      " 16  maximum_nights          27778 non-null  int64  \n",
      " 17  number_of_reviews       27778 non-null  int64  \n",
      " 18  number_of_reviews_ltm   27778 non-null  int64  \n",
      " 19  number_of_reviews_l30d  27778 non-null  int64  \n",
      " 20  review_scores_rating    27778 non-null  float64\n",
      " 21  reviews_per_month       27778 non-null  float64\n",
      " 22  City                    27778 non-null  object \n",
      "dtypes: float64(10), int64(8), object(5)\n",
      "memory usage: 5.1+ MB\n"
     ]
    }
   ],
   "source": [
    "# Veamos el aspecto final del dataframe.\n",
    "# Veamos cómo queda\n",
    "df_Dirty_3.info()\n"
   ]
  },
  {
   "cell_type": "code",
   "execution_count": 34,
   "metadata": {},
   "outputs": [],
   "source": [
    "# Hacemos una copia para trabajar sobre ella:\n",
    "df_final = df_Dirty_3.copy()\n"
   ]
  },
  {
   "cell_type": "code",
   "execution_count": 35,
   "metadata": {},
   "outputs": [
    {
     "data": {
      "text/html": [
       "<div>\n",
       "<style scoped>\n",
       "    .dataframe tbody tr th:only-of-type {\n",
       "        vertical-align: middle;\n",
       "    }\n",
       "\n",
       "    .dataframe tbody tr th {\n",
       "        vertical-align: top;\n",
       "    }\n",
       "\n",
       "    .dataframe thead th {\n",
       "        text-align: right;\n",
       "    }\n",
       "</style>\n",
       "<table border=\"1\" class=\"dataframe\">\n",
       "  <thead>\n",
       "    <tr style=\"text-align: right;\">\n",
       "      <th></th>\n",
       "      <th>id</th>\n",
       "      <th>host_response_rate</th>\n",
       "      <th>host_acceptance_rate</th>\n",
       "      <th>host_listings_count</th>\n",
       "      <th>latitude</th>\n",
       "      <th>longitude</th>\n",
       "      <th>accommodates</th>\n",
       "      <th>bathrooms</th>\n",
       "      <th>bedrooms</th>\n",
       "      <th>beds</th>\n",
       "      <th>price</th>\n",
       "      <th>minimum_nights</th>\n",
       "      <th>maximum_nights</th>\n",
       "      <th>number_of_reviews</th>\n",
       "      <th>number_of_reviews_ltm</th>\n",
       "      <th>number_of_reviews_l30d</th>\n",
       "      <th>review_scores_rating</th>\n",
       "      <th>reviews_per_month</th>\n",
       "    </tr>\n",
       "  </thead>\n",
       "  <tbody>\n",
       "    <tr>\n",
       "      <th>count</th>\n",
       "      <td>2.777800e+04</td>\n",
       "      <td>27778.000000</td>\n",
       "      <td>27778.000000</td>\n",
       "      <td>27778.000000</td>\n",
       "      <td>27778.000000</td>\n",
       "      <td>27778.000000</td>\n",
       "      <td>27778.000000</td>\n",
       "      <td>27778.000000</td>\n",
       "      <td>27778.000000</td>\n",
       "      <td>27778.000000</td>\n",
       "      <td>27778.000000</td>\n",
       "      <td>27778.000000</td>\n",
       "      <td>27778.000000</td>\n",
       "      <td>27778.000000</td>\n",
       "      <td>27778.000000</td>\n",
       "      <td>27778.000000</td>\n",
       "      <td>27778.000000</td>\n",
       "      <td>27778.000000</td>\n",
       "    </tr>\n",
       "    <tr>\n",
       "      <th>mean</th>\n",
       "      <td>4.475765e+17</td>\n",
       "      <td>96.786706</td>\n",
       "      <td>92.952501</td>\n",
       "      <td>125.590287</td>\n",
       "      <td>38.880820</td>\n",
       "      <td>0.398164</td>\n",
       "      <td>5.119807</td>\n",
       "      <td>1.827542</td>\n",
       "      <td>2.398538</td>\n",
       "      <td>3.427440</td>\n",
       "      <td>216.010044</td>\n",
       "      <td>4.110447</td>\n",
       "      <td>618.318813</td>\n",
       "      <td>31.661351</td>\n",
       "      <td>9.051336</td>\n",
       "      <td>0.913817</td>\n",
       "      <td>4.674861</td>\n",
       "      <td>1.130508</td>\n",
       "    </tr>\n",
       "    <tr>\n",
       "      <th>std</th>\n",
       "      <td>4.799806e+17</td>\n",
       "      <td>11.168706</td>\n",
       "      <td>16.508416</td>\n",
       "      <td>295.958485</td>\n",
       "      <td>1.261934</td>\n",
       "      <td>3.103229</td>\n",
       "      <td>2.362306</td>\n",
       "      <td>1.096204</td>\n",
       "      <td>1.380191</td>\n",
       "      <td>2.269827</td>\n",
       "      <td>154.238124</td>\n",
       "      <td>10.232044</td>\n",
       "      <td>458.277418</td>\n",
       "      <td>61.355229</td>\n",
       "      <td>14.985371</td>\n",
       "      <td>1.654606</td>\n",
       "      <td>0.360921</td>\n",
       "      <td>1.253032</td>\n",
       "    </tr>\n",
       "    <tr>\n",
       "      <th>min</th>\n",
       "      <td>4.815400e+04</td>\n",
       "      <td>0.000000</td>\n",
       "      <td>0.000000</td>\n",
       "      <td>1.000000</td>\n",
       "      <td>36.646012</td>\n",
       "      <td>-4.584345</td>\n",
       "      <td>1.000000</td>\n",
       "      <td>0.000000</td>\n",
       "      <td>0.000000</td>\n",
       "      <td>0.000000</td>\n",
       "      <td>10.000000</td>\n",
       "      <td>1.000000</td>\n",
       "      <td>1.000000</td>\n",
       "      <td>0.000000</td>\n",
       "      <td>0.000000</td>\n",
       "      <td>0.000000</td>\n",
       "      <td>1.000000</td>\n",
       "      <td>0.010000</td>\n",
       "    </tr>\n",
       "    <tr>\n",
       "      <th>25%</th>\n",
       "      <td>2.871176e+07</td>\n",
       "      <td>98.000000</td>\n",
       "      <td>94.000000</td>\n",
       "      <td>2.000000</td>\n",
       "      <td>36.773368</td>\n",
       "      <td>-4.344391</td>\n",
       "      <td>4.000000</td>\n",
       "      <td>1.000000</td>\n",
       "      <td>1.000000</td>\n",
       "      <td>2.000000</td>\n",
       "      <td>115.000000</td>\n",
       "      <td>1.000000</td>\n",
       "      <td>310.250000</td>\n",
       "      <td>1.000000</td>\n",
       "      <td>0.000000</td>\n",
       "      <td>0.000000</td>\n",
       "      <td>4.630000</td>\n",
       "      <td>0.320000</td>\n",
       "    </tr>\n",
       "    <tr>\n",
       "      <th>50%</th>\n",
       "      <td>5.353893e+07</td>\n",
       "      <td>100.000000</td>\n",
       "      <td>99.000000</td>\n",
       "      <td>10.000000</td>\n",
       "      <td>39.474137</td>\n",
       "      <td>2.590020</td>\n",
       "      <td>4.000000</td>\n",
       "      <td>1.500000</td>\n",
       "      <td>2.000000</td>\n",
       "      <td>3.000000</td>\n",
       "      <td>165.000000</td>\n",
       "      <td>2.000000</td>\n",
       "      <td>365.000000</td>\n",
       "      <td>9.000000</td>\n",
       "      <td>3.000000</td>\n",
       "      <td>0.000000</td>\n",
       "      <td>4.680000</td>\n",
       "      <td>0.970000</td>\n",
       "    </tr>\n",
       "    <tr>\n",
       "      <th>75%</th>\n",
       "      <td>9.339270e+17</td>\n",
       "      <td>100.000000</td>\n",
       "      <td>100.000000</td>\n",
       "      <td>91.000000</td>\n",
       "      <td>39.708475</td>\n",
       "      <td>3.074698</td>\n",
       "      <td>6.000000</td>\n",
       "      <td>2.000000</td>\n",
       "      <td>3.000000</td>\n",
       "      <td>5.000000</td>\n",
       "      <td>263.000000</td>\n",
       "      <td>4.000000</td>\n",
       "      <td>1125.000000</td>\n",
       "      <td>33.000000</td>\n",
       "      <td>11.000000</td>\n",
       "      <td>1.000000</td>\n",
       "      <td>4.900000</td>\n",
       "      <td>1.160000</td>\n",
       "    </tr>\n",
       "    <tr>\n",
       "      <th>max</th>\n",
       "      <td>1.189593e+18</td>\n",
       "      <td>100.000000</td>\n",
       "      <td>100.000000</td>\n",
       "      <td>5304.000000</td>\n",
       "      <td>39.921540</td>\n",
       "      <td>3.474510</td>\n",
       "      <td>16.000000</td>\n",
       "      <td>16.500000</td>\n",
       "      <td>25.000000</td>\n",
       "      <td>50.000000</td>\n",
       "      <td>999.000000</td>\n",
       "      <td>500.000000</td>\n",
       "      <td>1125.000000</td>\n",
       "      <td>1665.000000</td>\n",
       "      <td>660.000000</td>\n",
       "      <td>78.000000</td>\n",
       "      <td>5.000000</td>\n",
       "      <td>45.000000</td>\n",
       "    </tr>\n",
       "  </tbody>\n",
       "</table>\n",
       "</div>"
      ],
      "text/plain": [
       "                 id  host_response_rate  host_acceptance_rate  \\\n",
       "count  2.777800e+04        27778.000000          27778.000000   \n",
       "mean   4.475765e+17           96.786706             92.952501   \n",
       "std    4.799806e+17           11.168706             16.508416   \n",
       "min    4.815400e+04            0.000000              0.000000   \n",
       "25%    2.871176e+07           98.000000             94.000000   \n",
       "50%    5.353893e+07          100.000000             99.000000   \n",
       "75%    9.339270e+17          100.000000            100.000000   \n",
       "max    1.189593e+18          100.000000            100.000000   \n",
       "\n",
       "       host_listings_count      latitude     longitude  accommodates  \\\n",
       "count         27778.000000  27778.000000  27778.000000  27778.000000   \n",
       "mean            125.590287     38.880820      0.398164      5.119807   \n",
       "std             295.958485      1.261934      3.103229      2.362306   \n",
       "min               1.000000     36.646012     -4.584345      1.000000   \n",
       "25%               2.000000     36.773368     -4.344391      4.000000   \n",
       "50%              10.000000     39.474137      2.590020      4.000000   \n",
       "75%              91.000000     39.708475      3.074698      6.000000   \n",
       "max            5304.000000     39.921540      3.474510     16.000000   \n",
       "\n",
       "          bathrooms      bedrooms          beds         price  minimum_nights  \\\n",
       "count  27778.000000  27778.000000  27778.000000  27778.000000    27778.000000   \n",
       "mean       1.827542      2.398538      3.427440    216.010044        4.110447   \n",
       "std        1.096204      1.380191      2.269827    154.238124       10.232044   \n",
       "min        0.000000      0.000000      0.000000     10.000000        1.000000   \n",
       "25%        1.000000      1.000000      2.000000    115.000000        1.000000   \n",
       "50%        1.500000      2.000000      3.000000    165.000000        2.000000   \n",
       "75%        2.000000      3.000000      5.000000    263.000000        4.000000   \n",
       "max       16.500000     25.000000     50.000000    999.000000      500.000000   \n",
       "\n",
       "       maximum_nights  number_of_reviews  number_of_reviews_ltm  \\\n",
       "count    27778.000000       27778.000000           27778.000000   \n",
       "mean       618.318813          31.661351               9.051336   \n",
       "std        458.277418          61.355229              14.985371   \n",
       "min          1.000000           0.000000               0.000000   \n",
       "25%        310.250000           1.000000               0.000000   \n",
       "50%        365.000000           9.000000               3.000000   \n",
       "75%       1125.000000          33.000000              11.000000   \n",
       "max       1125.000000        1665.000000             660.000000   \n",
       "\n",
       "       number_of_reviews_l30d  review_scores_rating  reviews_per_month  \n",
       "count            27778.000000          27778.000000       27778.000000  \n",
       "mean                 0.913817              4.674861           1.130508  \n",
       "std                  1.654606              0.360921           1.253032  \n",
       "min                  0.000000              1.000000           0.010000  \n",
       "25%                  0.000000              4.630000           0.320000  \n",
       "50%                  0.000000              4.680000           0.970000  \n",
       "75%                  1.000000              4.900000           1.160000  \n",
       "max                 78.000000              5.000000          45.000000  "
      ]
     },
     "execution_count": 35,
     "metadata": {},
     "output_type": "execute_result"
    }
   ],
   "source": [
    "df_final.describe()"
   ]
  },
  {
   "cell_type": "code",
   "execution_count": 36,
   "metadata": {},
   "outputs": [],
   "source": [
    "# Lo guardamos para poder usarlo con posterioridad\n",
    "\n",
    "df_final.to_csv(\"./data/final.csv\", index=True)\n"
   ]
  }
 ],
 "metadata": {
  "kernelspec": {
   "display_name": "Python 3",
   "language": "python",
   "name": "python3"
  },
  "language_info": {
   "codemirror_mode": {
    "name": "ipython",
    "version": 3
   },
   "file_extension": ".py",
   "mimetype": "text/x-python",
   "name": "python",
   "nbconvert_exporter": "python",
   "pygments_lexer": "ipython3",
   "version": "3.10.11"
  }
 },
 "nbformat": 4,
 "nbformat_minor": 2
}
